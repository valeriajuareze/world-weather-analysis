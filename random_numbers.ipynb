{
 "cells": [
  {
   "cell_type": "code",
   "execution_count": 1,
   "id": "98df8c37",
   "metadata": {},
   "outputs": [],
   "source": [
    "#Import the random module\n",
    "import random"
   ]
  },
  {
   "cell_type": "code",
   "execution_count": 3,
   "id": "7e7ed017",
   "metadata": {},
   "outputs": [
    {
     "data": {
      "text/plain": [
       "-4"
      ]
     },
     "execution_count": 3,
     "metadata": {},
     "output_type": "execute_result"
    }
   ],
   "source": [
    "random.randint(-90,90)"
   ]
  },
  {
   "cell_type": "code",
   "execution_count": 4,
   "id": "609bbdf2",
   "metadata": {},
   "outputs": [
    {
     "data": {
      "text/plain": [
       "0.5391377126178619"
      ]
     },
     "execution_count": 4,
     "metadata": {},
     "output_type": "execute_result"
    }
   ],
   "source": [
    "random.random()"
   ]
  },
  {
   "cell_type": "code",
   "execution_count": 6,
   "id": "04a8f548",
   "metadata": {},
   "outputs": [
    {
     "data": {
      "text/plain": [
       "68.16637113322557"
      ]
     },
     "execution_count": 6,
     "metadata": {},
     "output_type": "execute_result"
    }
   ],
   "source": [
    "random_number= random.randint(-90,89) + random.random()\n",
    "random_number"
   ]
  },
  {
   "cell_type": "code",
   "execution_count": 13,
   "id": "e7e456d2",
   "metadata": {},
   "outputs": [
    {
     "data": {
      "text/plain": [
       "[59.315367227716074,\n",
       " -6.27578696550266,\n",
       " 8.479003688434922,\n",
       " 65.42026097944992,\n",
       " 34.02589011910436,\n",
       " 6.3864283913561515,\n",
       " -34.49582277335932,\n",
       " -69.0858637017973,\n",
       " 22.824925688286772,\n",
       " 75.16938503538711]"
      ]
     },
     "execution_count": 13,
     "metadata": {},
     "output_type": "execute_result"
    }
   ],
   "source": [
    "x=1\n",
    "latitudes=[]\n",
    "while x<11:\n",
    "    random_lat= random.randint(-90,89) + random.random()\n",
    "    latitudes.append(random_lat)\n",
    "    \n",
    "    x +=1\n",
    "    \n",
    "latitudes"
   ]
  },
  {
   "cell_type": "code",
   "execution_count": 14,
   "id": "66b637e4",
   "metadata": {},
   "outputs": [],
   "source": [
    "#Import the NumPy module\n",
    "import numpy as np"
   ]
  },
  {
   "cell_type": "code",
   "execution_count": 15,
   "id": "b389c2a7",
   "metadata": {},
   "outputs": [
    {
     "data": {
      "text/plain": [
       "-60.87603490730302"
      ]
     },
     "execution_count": 15,
     "metadata": {},
     "output_type": "execute_result"
    }
   ],
   "source": [
    "np.random.uniform(-90.000, 90.000)"
   ]
  },
  {
   "cell_type": "code",
   "execution_count": 16,
   "id": "42e529ea",
   "metadata": {},
   "outputs": [
    {
     "data": {
      "text/plain": [
       "array([-76.1937212 , -42.50264163, -19.98650046, -71.59373893,\n",
       "        62.81847722,  11.54728558,   8.19074323,  19.18979133,\n",
       "        22.67484489,  19.84670874,  49.20037878, -77.02824433,\n",
       "       -32.58400333, -56.99675726, -53.19140386,  58.5879151 ,\n",
       "        29.82616365, -16.85872064, -20.93831148,  50.44628921,\n",
       "         3.61505595,  81.99497209,  70.4933169 ,  27.70343867,\n",
       "        66.6094316 ,  22.21348692, -25.62022368,  -3.55664121,\n",
       "        16.72386708,  52.63694957, -60.12382552,  24.52957637,\n",
       "        22.81012518,  28.43176985, -53.47697726,  15.65885838,\n",
       "        26.11726937,  -5.30530144, -27.73712453,  44.20300152,\n",
       "       -45.54525064,  67.68814332,   1.4666643 , -87.95260197,\n",
       "        -5.12601497, -86.21361634,  35.7174365 ,  38.33482498,\n",
       "        47.20107883,  46.62429121])"
      ]
     },
     "execution_count": 16,
     "metadata": {},
     "output_type": "execute_result"
    }
   ],
   "source": [
    "np.random.uniform(-90.000,90.000, size=50)"
   ]
  },
  {
   "cell_type": "code",
   "execution_count": 17,
   "id": "5d091842",
   "metadata": {},
   "outputs": [],
   "source": [
    "#Import timeit\n",
    "import timeit"
   ]
  },
  {
   "cell_type": "code",
   "execution_count": 18,
   "id": "67e8187f",
   "metadata": {},
   "outputs": [
    {
     "name": "stdout",
     "output_type": "stream",
     "text": [
      "49.3 µs ± 575 ns per loop (mean ± std. dev. of 7 runs, 10000 loops each)\n"
     ]
    }
   ],
   "source": [
    "%timeit np.random.uniform(-90.000,90.000, size=1500)"
   ]
  },
  {
   "cell_type": "code",
   "execution_count": 21,
   "id": "4d844766",
   "metadata": {},
   "outputs": [
    {
     "name": "stdout",
     "output_type": "stream",
     "text": [
      "5.96 ms ± 36 µs per loop (mean ± std. dev. of 7 runs, 100 loops each)\n"
     ]
    }
   ],
   "source": [
    "def latitudes(size):\n",
    "    latitudes = []\n",
    "    x = 0\n",
    "    while x < (size):\n",
    "        random_lat = random.randint(-90, 90) + random.random()\n",
    "        latitudes.append(random_lat)\n",
    "        x += 1\n",
    "    return latitudes\n",
    "# Call the function with 1500.\n",
    "%timeit latitudes(1500)"
   ]
  },
  {
   "cell_type": "code",
   "execution_count": null,
   "id": "45a3d796",
   "metadata": {},
   "outputs": [],
   "source": []
  }
 ],
 "metadata": {
  "kernelspec": {
   "display_name": "PythonData",
   "language": "python",
   "name": "pythondata"
  },
  "language_info": {
   "codemirror_mode": {
    "name": "ipython",
    "version": 3
   },
   "file_extension": ".py",
   "mimetype": "text/x-python",
   "name": "python",
   "nbconvert_exporter": "python",
   "pygments_lexer": "ipython3",
   "version": "3.7.13"
  }
 },
 "nbformat": 4,
 "nbformat_minor": 5
}
